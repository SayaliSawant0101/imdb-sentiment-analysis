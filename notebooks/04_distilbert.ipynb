{
 "cells": [
  {
   "cell_type": "markdown",
   "id": "946dd269",
   "metadata": {},
   "source": [
    "Imports & load CSVs"
   ]
  },
  {
   "cell_type": "code",
   "execution_count": 2,
   "id": "3cfe3b6e",
   "metadata": {},
   "outputs": [
    {
     "name": "stderr",
     "output_type": "stream",
     "text": [
      "/Users/sayalisawant/Projects/imdb-sentiment-analysis/.venv311/lib/python3.11/site-packages/tqdm/auto.py:21: TqdmWarning: IProgress not found. Please update jupyter and ipywidgets. See https://ipywidgets.readthedocs.io/en/stable/user_install.html\n",
      "  from .autonotebook import tqdm as notebook_tqdm\n"
     ]
    },
    {
     "name": "stdout",
     "output_type": "stream",
     "text": [
      "CWD: /Users/sayalisawant/Projects/imdb-sentiment-analysis\n",
      "Has data/train.csv?  True\n"
     ]
    },
    {
     "data": {
      "text/plain": [
       "(20000, 5000, 25000)"
      ]
     },
     "execution_count": 2,
     "metadata": {},
     "output_type": "execute_result"
    }
   ],
   "source": [
    "from pathlib import Path\n",
    "import pandas as pd\n",
    "from datasets import Dataset, DatasetDict\n",
    "from transformers import AutoTokenizer\n",
    "import os\n",
    "\n",
    "PROJECT_ROOT = Path(\"/Users/sayalisawant/Projects/imdb-sentiment-analysis\")\n",
    "os.chdir(PROJECT_ROOT)\n",
    "\n",
    "print(\"CWD:\", Path.cwd())\n",
    "print(\"Has data/train.csv? \", (PROJECT_ROOT / \"data/train.csv\").exists())\n",
    "\n",
    "DATA_DIR = Path(\"data\")\n",
    "train_df = pd.read_csv(DATA_DIR/\"train.csv\")\n",
    "valid_df = pd.read_csv(DATA_DIR/\"valid.csv\")\n",
    "test_df  = pd.read_csv(DATA_DIR/\"test.csv\")\n",
    "\n",
    "ds = DatasetDict({\n",
    "    \"train\": Dataset.from_pandas(train_df),\n",
    "    \"valid\": Dataset.from_pandas(valid_df),\n",
    "    \"test\":  Dataset.from_pandas(test_df),\n",
    "})\n",
    "len(ds[\"train\"]), len(ds[\"valid\"]), len(ds[\"test\"])\n"
   ]
  },
  {
   "cell_type": "markdown",
   "id": "4d3bd6da",
   "metadata": {},
   "source": [
    "Tokenize"
   ]
  },
  {
   "cell_type": "code",
   "execution_count": 3,
   "id": "b6eb0696",
   "metadata": {},
   "outputs": [
    {
     "name": "stderr",
     "output_type": "stream",
     "text": [
      "Map: 100%|██████████| 20000/20000 [00:15<00:00, 1276.05 examples/s]\n",
      "Map: 100%|██████████| 5000/5000 [00:03<00:00, 1277.16 examples/s]\n",
      "Map: 100%|██████████| 25000/25000 [00:16<00:00, 1522.91 examples/s]\n"
     ]
    }
   ],
   "source": [
    "model_ckpt = \"distilbert-base-uncased\"\n",
    "tok = AutoTokenizer.from_pretrained(model_ckpt)\n",
    "\n",
    "def preprocess(batch):\n",
    "    return tok(batch[\"review\"], truncation=True, max_length=256)\n",
    "\n",
    "encoded = ds.map(preprocess, batched=True, remove_columns=[\"review\"])\n",
    "encoded = encoded.rename_column(\"label\", \"labels\")\n",
    "encoded.set_format(type=\"torch\", columns=[\"input_ids\",\"attention_mask\",\"labels\"])\n"
   ]
  },
  {
   "cell_type": "markdown",
   "id": "98d72b8a",
   "metadata": {},
   "source": [
    "Metrics"
   ]
  },
  {
   "cell_type": "code",
   "execution_count": 4,
   "id": "5506fe74",
   "metadata": {},
   "outputs": [],
   "source": [
    "from sklearn.metrics import accuracy_score, f1_score\n",
    "\n",
    "def compute_metrics(eval_pred):\n",
    "    import numpy as np\n",
    "    logits, labels = eval_pred\n",
    "    preds = logits.argmax(axis=-1)\n",
    "    return {\"accuracy\": accuracy_score(labels, preds),\n",
    "            \"f1\": f1_score(labels, preds)}\n"
   ]
  },
  {
   "cell_type": "code",
   "execution_count": 5,
   "id": "6b89da70",
   "metadata": {},
   "outputs": [
    {
     "name": "stdout",
     "output_type": "stream",
     "text": [
      "Transformers: 4.56.1\n",
      "TrainingArguments from: transformers.training_args\n",
      "Signature: (self, output_dir: Optional[str] = None, overwrite_output_dir: bool = False, do_train: bool = False, do_eval: bool = False, do_predict: bool = False, eval_strategy: Union[transformers.trainer_utils.IntervalStrategy, str] = 'no', prediction_loss_only: bool = False, per_device_train_batch_size: int = 8, per_device_eval_batch_size: int = 8, per_gpu_train_batch_size: Optional[int] = None, per_gpu_eval_batch_size: Optional[int] = None, gradient_accumulation_steps: int = 1, eval_accumulation_steps: Optional[int] = None, eval_delay: Optional[float] = 0, torch_empty_cache_steps: Optional[int] = None, learning_rate: float = 5e-05, weight_decay: float = 0.0, adam_beta1: float = 0.9, adam_beta2: float = 0.999, adam_epsilon: float = 1e-08, max_grad_norm: float = 1.0, num_train_epochs: float = 3.0, max_steps: int = -1, lr_scheduler_type: Union[transformers.trainer_utils.SchedulerType, str] = 'linear', lr_scheduler_kwargs: Union[dict[str, Any], str, NoneType] = <factory>, warmup_ratio: float = 0.0, warmup_steps: int = 0, log_level: str = 'passive', log_level_replica: str = 'warning', log_on_each_node: bool = True, logging_dir: Optional[str] = None, logging_strategy: Union[transformers.trainer_utils.IntervalStrategy, str] = 'steps', logging_first_step: bool = False, logging_steps: float = 500, logging_nan_inf_filter: bool = True, save_strategy: Union[transformers.trainer_utils.SaveStrategy, str] = 'steps', save_steps: float = 500, save_total_limit: Optional[int] = None, save_safetensors: Optional[bool] = True, save_on_each_node: bool = False, save_only_model: bool = False, restore_callback_states_from_checkpoint: bool = False, no_cuda: bool = False, use_cpu: bool = False, use_mps_device: bool = False, seed: int = 42, data_seed: Optional[int] = None, jit_mode_eval: bool = False, use_ipex: bool = False, bf16: bool = False, fp16: bool = False, fp16_opt_level: str = 'O1', half_precision_backend: str = 'auto', bf16_full_eval: bool = False, fp16_full_eval: bool = False, tf32: Optional[bool] = None, local_rank: int = -1, ddp_backend: Optional[str] = None, tpu_num_cores: Optional[int] = None, tpu_metrics_debug: bool = False, debug: Union[str, list[transformers.debug_utils.DebugOption]] = '', dataloader_drop_last: bool = False, eval_steps: Optional[float] = None, dataloader_num_workers: int = 0, dataloader_prefetch_factor: Optional[int] = None, past_index: int = -1, run_name: Optional[str] = None, disable_tqdm: Optional[bool] = None, remove_unused_columns: Optional[bool] = True, label_names: Optional[list[str]] = None, load_best_model_at_end: Optional[bool] = False, metric_for_best_model: Optional[str] = None, greater_is_better: Optional[bool] = None, ignore_data_skip: bool = False, fsdp: Union[list[transformers.trainer_utils.FSDPOption], str, NoneType] = '', fsdp_min_num_params: int = 0, fsdp_config: Union[dict[str, Any], str, NoneType] = None, fsdp_transformer_layer_cls_to_wrap: Optional[str] = None, accelerator_config: Union[dict, str, NoneType] = None, parallelism_config: Optional[ForwardRef('ParallelismConfig')] = None, deepspeed: Union[dict, str, NoneType] = None, label_smoothing_factor: float = 0.0, optim: Union[transformers.training_args.OptimizerNames, str] = 'adamw_torch', optim_args: Optional[str] = None, adafactor: bool = False, group_by_length: bool = False, length_column_name: Optional[str] = 'length', report_to: Union[NoneType, str, list[str]] = None, ddp_find_unused_parameters: Optional[bool] = None, ddp_bucket_cap_mb: Optional[int] = None, ddp_broadcast_buffers: Optional[bool] = None, dataloader_pin_memory: bool = True, dataloader_persistent_workers: bool = False, skip_memory_metrics: bool = True, use_legacy_prediction_loop: bool = False, push_to_hub: bool = False, resume_from_checkpoint: Optional[str] = None, hub_model_id: Optional[str] = None, hub_strategy: Union[transformers.trainer_utils.HubStrategy, str] = 'every_save', hub_token: Optional[str] = None, hub_private_repo: Optional[bool] = None, hub_always_push: bool = False, hub_revision: Optional[str] = None, gradient_checkpointing: bool = False, gradient_checkpointing_kwargs: Union[dict[str, Any], str, NoneType] = None, include_inputs_for_metrics: bool = False, include_for_metrics: list[str] = <factory>, eval_do_concat_batches: bool = True, fp16_backend: str = 'auto', push_to_hub_model_id: Optional[str] = None, push_to_hub_organization: Optional[str] = None, push_to_hub_token: Optional[str] = None, mp_parameters: str = '', auto_find_batch_size: bool = False, full_determinism: bool = False, torchdynamo: Optional[str] = None, ray_scope: Optional[str] = 'last', ddp_timeout: int = 1800, torch_compile: bool = False, torch_compile_backend: Optional[str] = None, torch_compile_mode: Optional[str] = None, include_tokens_per_second: Optional[bool] = False, include_num_input_tokens_seen: Optional[bool] = False, neftune_noise_alpha: Optional[float] = None, optim_target_modules: Union[NoneType, str, list[str]] = None, batch_eval_metrics: bool = False, eval_on_start: bool = False, use_liger_kernel: Optional[bool] = False, liger_kernel_config: Optional[dict[str, bool]] = None, eval_use_gather_object: Optional[bool] = False, average_tokens_across_devices: Optional[bool] = True) -> None\n"
     ]
    }
   ],
   "source": [
    "import transformers, inspect\n",
    "from transformers import TrainingArguments\n",
    "print(\"Transformers:\", transformers.__version__)\n",
    "print(\"TrainingArguments from:\", TrainingArguments.__module__)\n",
    "print(\"Signature:\", inspect.signature(TrainingArguments.__init__))\n"
   ]
  },
  {
   "cell_type": "code",
   "execution_count": 1,
   "id": "98bac2a1",
   "metadata": {},
   "outputs": [
    {
     "name": "stdout",
     "output_type": "stream",
     "text": [
      "torch: 2.2.2 numpy: 1.26.4\n"
     ]
    }
   ],
   "source": [
    "import torch, numpy as np\n",
    "print(\"torch:\", torch.__version__, \"numpy:\", np.__version__)"
   ]
  },
  {
   "cell_type": "markdown",
   "id": "95171f41",
   "metadata": {},
   "source": [
    "Model & Trainer"
   ]
  },
  {
   "cell_type": "code",
   "execution_count": 8,
   "id": "66c3b824",
   "metadata": {},
   "outputs": [
    {
     "name": "stderr",
     "output_type": "stream",
     "text": [
      "Some weights of DistilBertForSequenceClassification were not initialized from the model checkpoint at distilbert-base-uncased and are newly initialized: ['classifier.bias', 'classifier.weight', 'pre_classifier.bias', 'pre_classifier.weight']\n",
      "You should probably TRAIN this model on a down-stream task to be able to use it for predictions and inference.\n",
      "Some weights of DistilBertForSequenceClassification were not initialized from the model checkpoint at distilbert-base-uncased and are newly initialized: ['classifier.bias', 'classifier.weight', 'pre_classifier.bias', 'pre_classifier.weight']\n",
      "You should probably TRAIN this model on a down-stream task to be able to use it for predictions and inference.\n",
      "/var/folders/d9/7q11w0fj4h37hzlh3m8w5rx80000gn/T/ipykernel_8646/1726933344.py:30: FutureWarning: `tokenizer` is deprecated and will be removed in version 5.0.0 for `Trainer.__init__`. Use `processing_class` instead.\n",
      "  trainer = Trainer(\n"
     ]
    },
    {
     "data": {
      "text/html": [
       "\n",
       "    <div>\n",
       "      \n",
       "      <progress value='2500' max='2500' style='width:300px; height:20px; vertical-align: middle;'></progress>\n",
       "      [2500/2500 7:19:04, Epoch 2/2]\n",
       "    </div>\n",
       "    <table border=\"1\" class=\"dataframe\">\n",
       "  <thead>\n",
       " <tr style=\"text-align: left;\">\n",
       "      <th>Epoch</th>\n",
       "      <th>Training Loss</th>\n",
       "      <th>Validation Loss</th>\n",
       "      <th>Accuracy</th>\n",
       "      <th>F1</th>\n",
       "    </tr>\n",
       "  </thead>\n",
       "  <tbody>\n",
       "    <tr>\n",
       "      <td>1</td>\n",
       "      <td>0.266800</td>\n",
       "      <td>0.285986</td>\n",
       "      <td>0.901600</td>\n",
       "      <td>0.901284</td>\n",
       "    </tr>\n",
       "    <tr>\n",
       "      <td>2</td>\n",
       "      <td>0.182200</td>\n",
       "      <td>0.286091</td>\n",
       "      <td>0.908200</td>\n",
       "      <td>0.908255</td>\n",
       "    </tr>\n",
       "  </tbody>\n",
       "</table><p>"
      ],
      "text/plain": [
       "<IPython.core.display.HTML object>"
      ]
     },
     "metadata": {},
     "output_type": "display_data"
    },
    {
     "data": {
      "text/plain": [
       "TrainOutput(global_step=2500, training_loss=0.2387313259124756, metrics={'train_runtime': 26370.2561, 'train_samples_per_second': 1.517, 'train_steps_per_second': 0.095, 'total_flos': 2649347973120000.0, 'train_loss': 0.2387313259124756, 'epoch': 2.0})"
      ]
     },
     "execution_count": 8,
     "metadata": {},
     "output_type": "execute_result"
    }
   ],
   "source": [
    "from pathlib import Path\n",
    "from transformers import (AutoModelForSequenceClassification,\n",
    "                          TrainingArguments, Trainer, DataCollatorWithPadding)\n",
    "\n",
    "out_dir = Path(\"models/distilbert-imdb-full\")\n",
    "\n",
    "# 1) Recreate model/collator (same as before)\n",
    "model = AutoModelForSequenceClassification.from_pretrained(model_ckpt, num_labels=2)\n",
    "collator = DataCollatorWithPadding(tokenizer=tok)\n",
    "\n",
    "# 2) Small subsets (fast)\n",
    "small_train = encoded[\"train\"].shuffle(seed=42).select(range(1000))\n",
    "small_valid = encoded[\"valid\"].shuffle(seed=42).select(range(200))\n",
    "\n",
    "# 3) Frequent eval/save so we get checkpoints\n",
    "args = TrainingArguments(\n",
    "    output_dir=str(out_dir),\n",
    "    eval_strategy=\"epoch\",\n",
    "    save_strategy=\"epoch\",\n",
    "    logging_strategy=\"steps\",\n",
    "    logging_steps=100,\n",
    "    per_device_train_batch_size=16,\n",
    "    per_device_eval_batch_size=32,\n",
    "    num_train_epochs=2,\n",
    "    learning_rate=2e-5,\n",
    "    weight_decay=0.01,\n",
    "    load_best_model_at_end=True,\n",
    "    metric_for_best_model=\"f1\",\n",
    ")\n",
    "trainer = Trainer(\n",
    "    model=AutoModelForSequenceClassification.from_pretrained(model_ckpt, num_labels=2),\n",
    "    args=args,\n",
    "    train_dataset=encoded[\"train\"],\n",
    "    eval_dataset=encoded[\"valid\"],\n",
    "    tokenizer=tok,\n",
    "    data_collator=collator,\n",
    "    compute_metrics=compute_metrics,\n",
    ")\n",
    "trainer.train()  # creates models/distilbert-imdb/checkpoint-XXXX\n"
   ]
  },
  {
   "cell_type": "markdown",
   "id": "6b609c35",
   "metadata": {},
   "source": [
    "Test set evaluation"
   ]
  },
  {
   "cell_type": "code",
   "execution_count": 9,
   "id": "b8af8333",
   "metadata": {},
   "outputs": [
    {
     "data": {
      "text/html": [
       "\n",
       "    <div>\n",
       "      \n",
       "      <progress value='782' max='782' style='width:300px; height:20px; vertical-align: middle;'></progress>\n",
       "      [782/782 1:29:23]\n",
       "    </div>\n",
       "    "
      ],
      "text/plain": [
       "<IPython.core.display.HTML object>"
      ]
     },
     "metadata": {},
     "output_type": "display_data"
    },
    {
     "name": "stdout",
     "output_type": "stream",
     "text": [
      "Saved to: models/distilbert-imdb-full\n"
     ]
    }
   ],
   "source": [
    "test_metrics = trainer.evaluate(encoded[\"test\"])\n",
    "test_metrics\n",
    "trainer.save_model(str(out_dir))\n",
    "tok.save_pretrained(str(out_dir))\n",
    "print(\"Saved to:\", out_dir)"
   ]
  },
  {
   "cell_type": "code",
   "execution_count": 11,
   "id": "ab41d421",
   "metadata": {},
   "outputs": [
    {
     "name": "stdout",
     "output_type": "stream",
     "text": [
      "✅ Artifacts saved to: models/distilbert-imdb-full\n",
      "✅ Metrics saved to: experiments/distilbert_metrics.json\n"
     ]
    }
   ],
   "source": [
    "from pathlib import Path\n",
    "import json\n",
    "\n",
    "# Make sure these match your trained run\n",
    "out_dir = Path(\"models/distilbert-imdb-full\")\n",
    "exper_dir = Path(\"experiments\")\n",
    "exper_dir.mkdir(exist_ok=True)\n",
    "\n",
    "# Save final model + tokenizer\n",
    "trainer.save_model(str(out_dir))   # saves config.json + pytorch_model.bin\n",
    "tok.save_pretrained(str(out_dir))  # saves tokenizer files\n",
    "\n",
    "# (Optional) Save your test metrics for README/app display\n",
    "with open(exper_dir / \"distilbert_metrics.json\", \"w\") as f:\n",
    "    json.dump(test_metrics, f, indent=2)\n",
    "\n",
    "print(\"✅ Artifacts saved to:\", out_dir)\n",
    "print(\"✅ Metrics saved to:\", exper_dir / \"distilbert_metrics.json\")\n",
    "\n"
   ]
  },
  {
   "cell_type": "code",
   "execution_count": null,
   "id": "f8c01d9a",
   "metadata": {},
   "outputs": [],
   "source": []
  }
 ],
 "metadata": {
  "kernelspec": {
   "display_name": ".venv311 (3.11.13)",
   "language": "python",
   "name": "python3"
  },
  "language_info": {
   "codemirror_mode": {
    "name": "ipython",
    "version": 3
   },
   "file_extension": ".py",
   "mimetype": "text/x-python",
   "name": "python",
   "nbconvert_exporter": "python",
   "pygments_lexer": "ipython3",
   "version": "3.11.13"
  }
 },
 "nbformat": 4,
 "nbformat_minor": 5
}
